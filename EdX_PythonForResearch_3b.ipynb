{
  "nbformat": 4,
  "nbformat_minor": 0,
  "metadata": {
    "colab": {
      "name": "EdX-PythonForResearch-3b.ipynb",
      "provenance": [],
      "authorship_tag": "ABX9TyMGkfuxuVFDEUZeXRhh+Pj0",
      "include_colab_link": true
    },
    "kernelspec": {
      "name": "python3",
      "display_name": "Python 3"
    },
    "language_info": {
      "name": "python"
    }
  },
  "cells": [
    {
      "cell_type": "markdown",
      "metadata": {
        "id": "view-in-github",
        "colab_type": "text"
      },
      "source": [
        "<a href=\"https://colab.research.google.com/github/Shamscanor/EdX-PythonForResearch-Exercise3/blob/main/EdX_PythonForResearch_3b.ipynb\" target=\"_parent\"><img src=\"https://colab.research.google.com/assets/colab-badge.svg\" alt=\"Open In Colab\"/></a>"
      ]
    },
    {
      "cell_type": "code",
      "metadata": {
        "id": "vWMdEYXyLISW"
      },
      "source": [
        "import statistics\n",
        "def moving_window_average(x, n_neighbors):\n",
        "    m=[]\n",
        "    for n in range(0,len(x)):\n",
        "        if (n-n_neighbors)<0 and (n+n_neighbors)>(len(x)-1):\n",
        "          k1=-1*(n-n_neighbors)\n",
        "          k2=n+n_neighbors-len(x)+1\n",
        "          d1=[x[h] for h in range(0,len(x))]\n",
        "          d1 += k2*[x[n]]\n",
        "          d1 += k1*[x[n]]\n",
        "        elif (n-n_neighbors)<0:\n",
        "          k3=-1*(n-n_neighbors)\n",
        "          d1=[x[h] for h in range(0,n+n_neighbors+1)]\n",
        "          d1 += k3*[x[n]]\n",
        "          #print(d1,k1)\n",
        "        elif (n+n_neighbors)>(len(x)-1):\n",
        "          k4=n+n_neighbors-len(x)+1\n",
        "          d1=[x[h] for h in range(n-n_neighbors, len(x))]\n",
        "          d1 += k4*[x[n]]\n",
        "          #print(d1,k2)\n",
        "        else:\n",
        "          d1=[x[h] for h in range(n-n_neighbors,n+n_neighbors+1)]\n",
        "          #print(d1)\n",
        "        m.append(statistics.mean(d1))\n",
        "    return(m)\n",
        "    print(m)"
      ],
      "execution_count": 7,
      "outputs": []
    },
    {
      "cell_type": "code",
      "metadata": {
        "colab": {
          "base_uri": "https://localhost:8080/"
        },
        "id": "W3B5dEbqLNbI",
        "outputId": "223b2001-bdc3-40c0-d0a2-2c7d3958d9f2"
      },
      "source": [
        "\n",
        "# generate random floating point values\n",
        "from random import seed\n",
        "from random import random\n",
        "# seed random number generator\n",
        "seed(13)\n",
        "# generate random numbers between 0-1\n",
        "x=[]\n",
        "for R in range(0,1000):\n",
        "\tvalue = random()\n",
        "\tx.append(value) \n",
        "#print(len(x))\n",
        "Y=[x]\n",
        "for n_neighbors in range(1,10):\n",
        "  Y.append(moving_window_average(x, n_neighbors))\n",
        "#print(len(Y))\n",
        "#print(len(Y[9]))"
      ],
      "execution_count": 20,
      "outputs": [
        {
          "output_type": "stream",
          "name": "stdout",
          "text": [
            "1000\n"
          ]
        }
      ]
    }
  ]
}